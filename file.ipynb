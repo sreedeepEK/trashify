{
 "cells": [
  {
   "cell_type": "code",
   "execution_count": 2,
   "id": "eb6cc952",
   "metadata": {},
   "outputs": [],
   "source": [
    "import datasets\n",
    "import gradio as gr\n",
    "\n",
    "\n",
    "import torchmetrics\n",
    "import pycocotools # make sure we have this for torchmetricsimport random\n",
    "\n",
    "import numpy as np\n",
    "\n",
    "import torch\n",
    "import transformers"
   ]
  },
  {
   "cell_type": "code",
   "execution_count": 3,
   "id": "2da8565a",
   "metadata": {},
   "outputs": [
    {
     "data": {
      "application/vnd.jupyter.widget-view+json": {
       "model_id": "b2aaa823c331481f9bf1999fa713d928",
       "version_major": 2,
       "version_minor": 0
      },
      "text/plain": [
       "README.md: 0.00B [00:00, ?B/s]"
      ]
     },
     "metadata": {},
     "output_type": "display_data"
    },
    {
     "name": "stderr",
     "output_type": "stream",
     "text": [
      "c:\\Users\\heysr\\anaconda3\\envs\\projects\\lib\\site-packages\\huggingface_hub\\file_download.py:142: UserWarning: `huggingface_hub` cache-system uses symlinks by default to efficiently store duplicated files but your machine does not support them in C:\\Users\\heysr\\.cache\\huggingface\\hub\\datasets--mrdbourke--trashify_manual_labelled_images. Caching files will still work but in a degraded version that might require more space on your disk. This warning can be disabled by setting the `HF_HUB_DISABLE_SYMLINKS_WARNING` environment variable. For more details, see https://huggingface.co/docs/huggingface_hub/how-to-cache#limitations.\n",
      "To support symlinks on Windows, you either need to activate Developer Mode or to run Python as an administrator. In order to activate developer mode, see this article: https://docs.microsoft.com/en-us/windows/apps/get-started/enable-your-device-for-development\n",
      "  warnings.warn(message)\n"
     ]
    },
    {
     "data": {
      "application/vnd.jupyter.widget-view+json": {
       "model_id": "3c19d1bc688a4a3ba4a1b87ab987aada",
       "version_major": 2,
       "version_minor": 0
      },
      "text/plain": [
       "train-00000-of-00003.parquet:   0%|          | 0.00/334M [00:00<?, ?B/s]"
      ]
     },
     "metadata": {},
     "output_type": "display_data"
    },
    {
     "data": {
      "application/vnd.jupyter.widget-view+json": {
       "model_id": "17d33c7e8b474284b39ebf209dfc42f4",
       "version_major": 2,
       "version_minor": 0
      },
      "text/plain": [
       "train-00001-of-00003.parquet:   0%|          | 0.00/348M [00:00<?, ?B/s]"
      ]
     },
     "metadata": {},
     "output_type": "display_data"
    },
    {
     "data": {
      "application/vnd.jupyter.widget-view+json": {
       "model_id": "afd89ec954d74d35971f81409afb18b8",
       "version_major": 2,
       "version_minor": 0
      },
      "text/plain": [
       "train-00002-of-00003.parquet:   0%|          | 0.00/345M [00:00<?, ?B/s]"
      ]
     },
     "metadata": {},
     "output_type": "display_data"
    },
    {
     "data": {
      "application/vnd.jupyter.widget-view+json": {
       "model_id": "27d7b161e2e14a6484aba5622ab480a8",
       "version_major": 2,
       "version_minor": 0
      },
      "text/plain": [
       "Generating train split:   0%|          | 0/1128 [00:00<?, ? examples/s]"
      ]
     },
     "metadata": {},
     "output_type": "display_data"
    },
    {
     "data": {
      "text/plain": [
       "DatasetDict({\n",
       "    train: Dataset({\n",
       "        features: ['image', 'image_id', 'annotations', 'label_source', 'image_source'],\n",
       "        num_rows: 1128\n",
       "    })\n",
       "})"
      ]
     },
     "execution_count": 3,
     "metadata": {},
     "output_type": "execute_result"
    }
   ],
   "source": [
    "# Loading the dataset\n",
    "\n",
    "from datasets import load_dataset\n",
    "dataset = load_dataset(\"mrdbourke/trashify_manual_labelled_images\")\n",
    "dataset"
   ]
  },
  {
   "cell_type": "code",
   "execution_count": 6,
   "id": "274d4155",
   "metadata": {},
   "outputs": [
    {
     "name": "stdout",
     "output_type": "stream",
     "text": [
      "[INFO] Length of original dataset: 1128\n"
     ]
    }
   ],
   "source": [
    "print(f\"[INFO] Length of original dataset: {len(dataset['train'])}\")\n",
    "\n"
   ]
  },
  {
   "cell_type": "code",
   "execution_count": 9,
   "id": "fe3db70c",
   "metadata": {},
   "outputs": [
    {
     "data": {
      "text/plain": [
       "{'image': <PIL.Image.Image image mode=RGB size=960x1280>,\n",
       " 'image_id': 745,\n",
       " 'annotations': {'file_name': ['094f4f41-dc07-4704-96d7-8d5e82c9edb9.jpeg',\n",
       "   '094f4f41-dc07-4704-96d7-8d5e82c9edb9.jpeg',\n",
       "   '094f4f41-dc07-4704-96d7-8d5e82c9edb9.jpeg'],\n",
       "  'image_id': [745, 745, 745],\n",
       "  'category_id': [5, 1, 0],\n",
       "  'bbox': [[333.1000061035156,\n",
       "    611.2000122070312,\n",
       "    244.89999389648438,\n",
       "    321.29998779296875],\n",
       "   [504.0, 612.9000244140625, 451.29998779296875, 650.7999877929688],\n",
       "   [202.8000030517578,\n",
       "    366.20001220703125,\n",
       "    532.9000244140625,\n",
       "    555.4000244140625]],\n",
       "  'iscrowd': [0, 0, 0],\n",
       "  'area': [78686.3671875, 293706.03125, 295972.65625]},\n",
       " 'label_source': 'manual_prodigy_label',\n",
       " 'image_source': 'manual_taken_photo'}"
      ]
     },
     "execution_count": 9,
     "metadata": {},
     "output_type": "execute_result"
    }
   ],
   "source": [
    "# sample dataset \n",
    "\n",
    "dataset[\"train\"][42]\n"
   ]
  },
  {
   "cell_type": "code",
   "execution_count": 11,
   "id": "f93b2298",
   "metadata": {},
   "outputs": [
    {
     "data": {
      "text/plain": [
       "[333.1000061035156, 611.2000122070312, 244.89999389648438, 321.29998779296875]"
      ]
     },
     "execution_count": 11,
     "metadata": {},
     "output_type": "execute_result"
    }
   ],
   "source": [
    "#single bounding box \n",
    "\n",
    "dataset[\"train\"][42][\"annotations\"][\"bbox\"][0]"
   ]
  },
  {
   "cell_type": "code",
   "execution_count": 12,
   "id": "fe28443f",
   "metadata": {},
   "outputs": [
    {
     "data": {
      "text/plain": [
       "['bin', 'hand', 'not_bin', 'not_hand', 'not_trash', 'trash', 'trash_arm']"
      ]
     },
     "execution_count": 12,
     "metadata": {},
     "output_type": "execute_result"
    }
   ],
   "source": [
    "categories = dataset[\"train\"].features[\"annotations\"].feature[\"category_id\"]\n",
    "\n",
    "# Get the names attribute\n",
    "categories.names"
   ]
  },
  {
   "cell_type": "code",
   "execution_count": null,
   "id": "f0bae13f",
   "metadata": {},
   "outputs": [],
   "source": []
  }
 ],
 "metadata": {
  "kernelspec": {
   "display_name": "projects",
   "language": "python",
   "name": "python3"
  },
  "language_info": {
   "codemirror_mode": {
    "name": "ipython",
    "version": 3
   },
   "file_extension": ".py",
   "mimetype": "text/x-python",
   "name": "python",
   "nbconvert_exporter": "python",
   "pygments_lexer": "ipython3",
   "version": "3.9.21"
  }
 },
 "nbformat": 4,
 "nbformat_minor": 5
}
