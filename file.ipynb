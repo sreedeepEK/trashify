{
 "cells": [
  {
   "cell_type": "code",
   "execution_count": 1,
   "id": "eb6cc952",
   "metadata": {},
   "outputs": [],
   "source": [
    "import datasets\n",
    "import gradio as gr\n",
    "\n",
    "\n",
    "import torchmetrics\n",
    "import pycocotools # make sure we have this for torchmetricsimport random\n",
    "\n",
    "import numpy as np\n",
    "\n",
    "import torch\n",
    "import transformers"
   ]
  },
  {
   "cell_type": "code",
   "execution_count": 2,
   "id": "2da8565a",
   "metadata": {},
   "outputs": [
    {
     "name": "stderr",
     "output_type": "stream",
     "text": [
      "Using the latest cached version of the dataset since mrdbourke/trashify_manual_labelled_images couldn't be found on the Hugging Face Hub\n",
      "Found the latest cached dataset configuration 'default' at C:\\Users\\heysr\\.cache\\huggingface\\datasets\\mrdbourke___trashify_manual_labelled_images\\default\\0.0.0\\31fe55e7fa822727c84143d73084f4e3cefe0fbb (last modified on Tue Jul  8 04:30:29 2025).\n"
     ]
    },
    {
     "data": {
      "text/plain": [
       "DatasetDict({\n",
       "    train: Dataset({\n",
       "        features: ['image', 'image_id', 'annotations', 'label_source', 'image_source'],\n",
       "        num_rows: 1128\n",
       "    })\n",
       "})"
      ]
     },
     "execution_count": 2,
     "metadata": {},
     "output_type": "execute_result"
    }
   ],
   "source": [
    "# Loading the dataset\n",
    "\n",
    "from datasets import load_dataset\n",
    "dataset = load_dataset(\"mrdbourke/trashify_manual_labelled_images\")\n",
    "dataset"
   ]
  },
  {
   "cell_type": "code",
   "execution_count": 3,
   "id": "274d4155",
   "metadata": {},
   "outputs": [
    {
     "name": "stdout",
     "output_type": "stream",
     "text": [
      "[INFO] Length of original dataset: 1128\n"
     ]
    }
   ],
   "source": [
    "print(f\"[INFO] Length of original dataset: {len(dataset['train'])}\")\n",
    "\n"
   ]
  },
  {
   "cell_type": "code",
   "execution_count": 4,
   "id": "fe3db70c",
   "metadata": {},
   "outputs": [
    {
     "data": {
      "text/plain": [
       "{'image': <PIL.Image.Image image mode=RGB size=960x1280>,\n",
       " 'image_id': 745,\n",
       " 'annotations': {'file_name': ['094f4f41-dc07-4704-96d7-8d5e82c9edb9.jpeg',\n",
       "   '094f4f41-dc07-4704-96d7-8d5e82c9edb9.jpeg',\n",
       "   '094f4f41-dc07-4704-96d7-8d5e82c9edb9.jpeg'],\n",
       "  'image_id': [745, 745, 745],\n",
       "  'category_id': [5, 1, 0],\n",
       "  'bbox': [[333.1000061035156,\n",
       "    611.2000122070312,\n",
       "    244.89999389648438,\n",
       "    321.29998779296875],\n",
       "   [504.0, 612.9000244140625, 451.29998779296875, 650.7999877929688],\n",
       "   [202.8000030517578,\n",
       "    366.20001220703125,\n",
       "    532.9000244140625,\n",
       "    555.4000244140625]],\n",
       "  'iscrowd': [0, 0, 0],\n",
       "  'area': [78686.3671875, 293706.03125, 295972.65625]},\n",
       " 'label_source': 'manual_prodigy_label',\n",
       " 'image_source': 'manual_taken_photo'}"
      ]
     },
     "execution_count": 4,
     "metadata": {},
     "output_type": "execute_result"
    }
   ],
   "source": [
    "# sample dataset \n",
    "\n",
    "dataset[\"train\"][42]\n"
   ]
  },
  {
   "cell_type": "code",
   "execution_count": 5,
   "id": "f93b2298",
   "metadata": {},
   "outputs": [
    {
     "data": {
      "text/plain": [
       "[333.1000061035156, 611.2000122070312, 244.89999389648438, 321.29998779296875]"
      ]
     },
     "execution_count": 5,
     "metadata": {},
     "output_type": "execute_result"
    }
   ],
   "source": [
    "#single bounding box \n",
    "\n",
    "dataset[\"train\"][42][\"annotations\"][\"bbox\"][0]"
   ]
  },
  {
   "cell_type": "code",
   "execution_count": null,
   "id": "8b84ab92",
   "metadata": {},
   "outputs": [],
   "source": [
    "# X is the x-coordinate of the top left corner of the box (333.1).\n",
    "# Y is the y-coordinate of the top left corner of the box (611.2).\n",
    "# W is the width of the box (244.9).\n",
    "# H is the height of the box (321.3)."
   ]
  },
  {
   "cell_type": "code",
   "execution_count": 19,
   "id": "fe28443f",
   "metadata": {},
   "outputs": [
    {
     "data": {
      "text/plain": [
       "['bin', 'hand', 'not_bin', 'not_hand', 'not_trash', 'trash', 'trash_arm']"
      ]
     },
     "execution_count": 19,
     "metadata": {},
     "output_type": "execute_result"
    }
   ],
   "source": [
    "categories = dataset[\"train\"].features[\"annotations\"].feature[\"category_id\"]\n",
    "\n",
    "# Get the names attribute\n",
    "categories.names"
   ]
  },
  {
   "cell_type": "code",
   "execution_count": 20,
   "id": "f0bae13f",
   "metadata": {},
   "outputs": [],
   "source": [
    "id2label = {i: class_name for i, class_name in enumerate(categories.names)}\n",
    "label2id = {value: key for key, value in id2label.items()}"
   ]
  },
  {
   "cell_type": "code",
   "execution_count": 21,
   "id": "21dfc710",
   "metadata": {},
   "outputs": [
    {
     "name": "stdout",
     "output_type": "stream",
     "text": [
      "Label to ID mapping:\n",
      "{'bin': 0, 'hand': 1, 'not_bin': 2, 'not_hand': 3, 'not_trash': 4, 'trash': 5, 'trash_arm': 6}\n",
      "\n",
      "ID to label mapping:\n",
      "{0: 'bin', 1: 'hand', 2: 'not_bin', 3: 'not_hand', 4: 'not_trash', 5: 'trash', 6: 'trash_arm'}\n"
     ]
    }
   ],
   "source": [
    "print(f\"Label to ID mapping:\\n{label2id}\\n\")\n",
    "print(f\"ID to label mapping:\\n{id2label}\")"
   ]
  },
  {
   "cell_type": "code",
   "execution_count": 22,
   "id": "4a79ed2a",
   "metadata": {},
   "outputs": [],
   "source": [
    "# Make colour dictionary\n",
    "colour_palette = {\n",
    "    'bin': (0, 0, 224),         # Bright Blue (High contrast with greenery) in format (red, green, blue)\n",
    "    'not_bin': (255, 80, 80),   # Light Red to indicate negative class\n",
    "\n",
    "    'hand': (148, 0, 211),      # Dark Purple (Contrasts well with skin tones)\n",
    "    'not_hand': (255, 80, 80),  # Light Red to indicate negative class\n",
    "\n",
    "    'trash': (0, 255, 0),       # Bright Green (For trash-related items)\n",
    "    'not_trash': (255, 80, 80), # Light Red to indicate negative class\n",
    "\n",
    "    'trash_arm': (255, 140, 0), # Deep Orange (Highly visible)\n",
    "}"
   ]
  }
 ],
 "metadata": {
  "kernelspec": {
   "display_name": "projects",
   "language": "python",
   "name": "python3"
  },
  "language_info": {
   "codemirror_mode": {
    "name": "ipython",
    "version": 3
   },
   "file_extension": ".py",
   "mimetype": "text/x-python",
   "name": "python",
   "nbconvert_exporter": "python",
   "pygments_lexer": "ipython3",
   "version": "3.9.21"
  }
 },
 "nbformat": 4,
 "nbformat_minor": 5
}
